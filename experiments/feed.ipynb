{
 "cells": [
  {
   "cell_type": "code",
   "execution_count": 9,
   "metadata": {},
   "outputs": [],
   "source": [
    "import importlib.machinery\n",
    "import importlib.util\n",
    "from pathlib import Path\n",
    "import xml\n",
    "import typing as T\n",
    "import xml.etree.ElementTree as ET\n",
    "from datetime import datetime\n",
    "import requests_cache\n",
    "\n",
    "HERE = Path(\".\").resolve()"
   ]
  },
  {
   "cell_type": "code",
   "execution_count": 4,
   "metadata": {},
   "outputs": [
    {
     "name": "stdout",
     "output_type": "stream",
     "text": [
      "Theme is /home/jordan/projects/dgt/dgtstatic/custom-themes/putty2\n"
     ]
    }
   ],
   "source": [
    "MODULE_NAME = 'pelicanconf'\n",
    "loader = importlib.machinery.SourceFileLoader(MODULE_NAME, str(HERE.parent / \"pelicanconf.py\") )\n",
    "spec = importlib.util.spec_from_loader(MODULE_NAME, loader )\n",
    "pelicanconf = importlib.util.module_from_spec( spec )\n",
    "loader.exec_module(pelicanconf)"
   ]
  },
  {
   "cell_type": "code",
   "execution_count": 5,
   "metadata": {},
   "outputs": [
    {
     "data": {
      "text/plain": [
       "{'DGT_MEDIUM': 'https://medium.com/feed/@damngoodtech'}"
      ]
     },
     "execution_count": 5,
     "metadata": {},
     "output_type": "execute_result"
    }
   ],
   "source": [
    "pelicanconf.FEEDS"
   ]
  },
  {
   "cell_type": "code",
   "execution_count": 6,
   "metadata": {},
   "outputs": [],
   "source": [
    "feed = list(pelicanconf.FEEDS.values())[0]"
   ]
  },
  {
   "cell_type": "code",
   "execution_count": 11,
   "metadata": {},
   "outputs": [],
   "source": [
    "session = requests_cache.CachedSession(\"dgtfeed\")\n",
    "resp = session.get(feed)"
   ]
  },
  {
   "cell_type": "code",
   "execution_count": 37,
   "metadata": {},
   "outputs": [],
   "source": [
    "def textif(tree : ET, xpath : T.AnyStr):\n",
    "    el = tree.find(xpath)\n",
    "    if el is not None:\n",
    "        return el.text\n",
    "\n",
    "def parse_item_date(text : T.AnyStr, dtformat=\"%a, %d %b %Y %H:%M:%S %Z\"):\n",
    "    return datetime.strptime(text, dtformat)\n",
    "\n",
    "class Item:\n",
    "    \n",
    "    def __init__(self, title, description, link, categories):\n",
    "        self.title = title\n",
    "        self.link = link\n",
    "        self.categories = categories\n",
    "        self.description = description\n",
    "    \n",
    "    def __str__(self):\n",
    "        return \"<Item title: '%s', link: '%s', categories: %s>\" % (self.title, self.link, self.categories)\n",
    "    \n",
    "    @classmethod\n",
    "    def from_element(cls, node : ET.Element):\n",
    "        title = textif(node, \"title\")\n",
    "        description = textif(node, \"description\")\n",
    "        link = textif(node, \"link\")\n",
    "        categories = [c.text for c in node.findall(\".//category\")]\n",
    "        pubdate = textif(node, \"pubdate\")\n",
    "        pubdate = parse_item_date(pudate) if pubdate else None\n",
    "        \n",
    "        return cls(title, description, link, categories)\n",
    "\n",
    "class Feed:\n",
    "\n",
    "    def __init__(self, title : T.AnyStr, description : T.AnyStr, link : T.AnyStr, items : T.Iterable[Item]):\n",
    "        self.title = title\n",
    "        self.description = description\n",
    "        self.link = link\n",
    "        self.items = items\n",
    "    \n",
    "    def __str__(self):\n",
    "        return \"<Feed title: '%s', description: '%s', link: '%s', items: [%s items]>\" % (self.title, self.description, self.link, len(self.items))\n",
    "\n",
    "    @classmethod\n",
    "    def from_etree(cls, tree: ET):\n",
    "        title = textif(tree, \".//title\")\n",
    "        desc = textif(tree, \".//description\")\n",
    "        link = textif(tree, \".//link\")\n",
    "        items = [Item.from_element(xitem) for xitem in tree.findall(\".//item\")]\n",
    "        return cls(title, desc, link, items)\n",
    "\n",
    "et = ET.fromstring(resp.text)\n",
    "\n",
    "feed = Feed.from_etree(et)"
   ]
  },
  {
   "cell_type": "code",
   "execution_count": 38,
   "metadata": {},
   "outputs": [
    {
     "data": {
      "text/plain": [
       "[\"<Item title: 'ration The Unseen Deployment Puzzle: Why Heroku Won’t Deploy When Config Variables Are Involved', link: 'https://medium.com/@damngoodtech/ration-the-unseen-deployment-puzzle-why-heroku-wont-deploy-when-config-variables-are-involved-8da548cd5045?source=rss-c03d69f9e146------2', categories: ['heroku', 'web', 'technology', 'programming', 'devops']>\",\n",
       " \"<Item title: 'AI Weather Prediction Pipeline: From User Message to Accurate Forecast', link: 'https://medium.com/@damngoodtech/ai-weather-prediction-pipeline-from-user-message-to-accurate-forecast-abd7d861e9e0?source=rss-c03d69f9e146------2', categories: ['transformers', 'python', 'ai', 'programming', 'technolgoy']>\",\n",
       " \"<Item title: 'How to be a Django Form Mixologist', link: 'https://medium.com/@damngoodtech/how-to-be-a-django-form-mixologist-5d70b6beba37?source=rss-c03d69f9e146------2', categories: ['web-development', 'programming', 'technology', 'python', 'coding']>\",\n",
       " \"<Item title: 'How to Use AI Intelligently in Your Organization', link: 'https://medium.com/@damngoodtech/how-to-use-ai-intelligently-in-your-organization-6713d828c97b?source=rss-c03d69f9e146------2', categories: ['tech', 'ai', 'software', 'business', 'leadership']>\",\n",
       " \"<Item title: 'How to Hire a Tech Lead To Handle Your Next (or Current) Software Project', link: 'https://medium.com/@damngoodtech/how-to-hire-a-tech-lead-to-handle-your-next-or-current-software-project-d016d6966472?source=rss-c03d69f9e146------2', categories: ['business', 'web', 'tech', 'technology', 'software']>\",\n",
       " \"<Item title: 'Want to Maximize your Profits on Open Source Products? Gain Insight with  OpenSauced', link: 'https://medium.com/@damngoodtech/want-to-maximize-your-profits-on-open-source-products-gain-insight-with-opensauced-a539008d99a4?source=rss-c03d69f9e146------2', categories: []>\",\n",
       " \"<Item title: 'Creating 3D Stereo Images From 2D Images using InvokeAI', link: 'https://medium.com/@damngoodtech/creating-3d-stereo-images-from-2d-images-using-invokeai-4245902abef5?source=rss-c03d69f9e146------2', categories: ['art', 'ai', 'software', 'technology', 'artificial-intelligence']>\",\n",
       " \"<Item title: 'Long-Overdue Update and Exciting Announcement for Tech Teams!', link: 'https://medium.com/@damngoodtech/long-overdue-update-and-exciting-announcement-for-tech-teams-673271fdca50?source=rss-c03d69f9e146------2', categories: ['tech', 'success', 'business', 'innovation', 'technology']>\",\n",
       " \"<Item title: 'Want a Better Software Product? Read Fiction', link: 'https://medium.com/@damngoodtech/want-a-better-software-product-read-fiction-75fcaaeff0a6?source=rss-c03d69f9e146------2', categories: ['fiction', 'business', 'software', 'books', 'technology']>\",\n",
       " \"<Item title: 'Why Open Sourcing your Stack Means More Customers and Better Software', link: 'https://medium.com/@damngoodtech/why-open-sourcing-your-stack-means-more-customers-and-better-software-28a47e0b22f4?source=rss-c03d69f9e146------2', categories: ['technology', 'leadership', 'software', 'open-source', 'business']>\"]"
      ]
     },
     "execution_count": 38,
     "metadata": {},
     "output_type": "execute_result"
    }
   ],
   "source": [
    "[str(i) for i in feed.items]"
   ]
  },
  {
   "cell_type": "code",
   "execution_count": null,
   "metadata": {},
   "outputs": [],
   "source": []
  }
 ],
 "metadata": {
  "kernelspec": {
   "display_name": "Python 3 (ipykernel)",
   "language": "python",
   "name": "python3"
  },
  "language_info": {
   "codemirror_mode": {
    "name": "ipython",
    "version": 3
   },
   "file_extension": ".py",
   "mimetype": "text/x-python",
   "name": "python",
   "nbconvert_exporter": "python",
   "pygments_lexer": "ipython3",
   "version": "3.10.11"
  }
 },
 "nbformat": 4,
 "nbformat_minor": 4
}
